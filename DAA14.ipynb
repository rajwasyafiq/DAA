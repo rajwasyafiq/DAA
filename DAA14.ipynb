{
  "nbformat": 4,
  "nbformat_minor": 0,
  "metadata": {
    "colab": {
      "name": "DAA14.ipynb",
      "provenance": [],
      "authorship_tag": "ABX9TyMRCE9bxOmQwmAx5bp+CwVX",
      "include_colab_link": true
    },
    "kernelspec": {
      "name": "python3",
      "display_name": "Python 3"
    },
    "language_info": {
      "name": "python"
    }
  },
  "cells": [
    {
      "cell_type": "markdown",
      "metadata": {
        "id": "view-in-github",
        "colab_type": "text"
      },
      "source": [
        "<a href=\"https://colab.research.google.com/github/rajwasyafiq/DAA/blob/main/DAA14.ipynb\" target=\"_parent\"><img src=\"https://colab.research.google.com/assets/colab-badge.svg\" alt=\"Open In Colab\"/></a>"
      ]
    },
    {
      "cell_type": "code",
      "metadata": {
        "id": "uinhLxjYEaoO"
      },
      "source": [
        "import networkx as nx\n",
        "import matplotlib.pyplot as plt"
      ],
      "execution_count": 2,
      "outputs": []
    },
    {
      "cell_type": "code",
      "metadata": {
        "id": "iDvUFoWVE75U"
      },
      "source": [
        "vertices = range(1,10)\n",
        "edges= range(1,10)\n",
        "edges= [(7,2), (2,3), (7,4), (4,5), (7,3), (7,5), (1,6), (1,7), (2,8), (2,9)]"
      ],
      "execution_count": 3,
      "outputs": []
    },
    {
      "cell_type": "code",
      "metadata": {
        "id": "W5rV0T0VFYB4"
      },
      "source": [
        "G = nx.Graph()"
      ],
      "execution_count": 4,
      "outputs": []
    },
    {
      "cell_type": "code",
      "metadata": {
        "id": "9gfid8L2FbBA"
      },
      "source": [
        "G.add_nodes_from(vertices)\n",
        "G.add_edges_from(edges)\n",
        "pos=nx.spring_layout(G)"
      ],
      "execution_count": 5,
      "outputs": []
    },
    {
      "cell_type": "code",
      "metadata": {
        "colab": {
          "base_uri": "https://localhost:8080/",
          "height": 404
        },
        "id": "64-zPG83G7gL",
        "outputId": "d0980cde-25cd-4dd7-a937-0df78e631ebf"
      },
      "source": [
        "nx.draw_networkx_nodes(G,pos,nodelist=[1,4,3,8,9],node_color='g',node_size=1300)\n",
        "\n",
        "nx.draw_networkx_nodes(G,pos,nodelist= [2,5,6,7],node_color='r',node_size=1300)\n",
        "\n",
        "nx.draw_networkx_edges(G,pos,edges,width=3,alpha=0.5,edge_color='b')\n",
        "labels={}\n",
        "labels[1]=r'1 NF'\n",
        "labels[2]=r'2 F'\n",
        "labels[3]=r'3 NF'\n",
        "labels[4]=r'4 NF'\n",
        "labels[5]=r'5 F'\n",
        "labels[6]=r'6 F'\n",
        "labels[7]=r'7 F'\n",
        "labels[8]=r'8 NF'\n",
        "labels[9]=r'9 NF'\n",
        "\n",
        "nx.draw_networkx_labels(G,pos,labels,font_size=16)"
      ],
      "execution_count": 14,
      "outputs": [
        {
          "output_type": "execute_result",
          "data": {
            "text/plain": [
              "{1: Text(-0.34506462318949793, -0.4507694951688587, '1 NF'),\n",
              " 2: Text(0.2353854498098681, -0.14803645153607292, '2 F'),\n",
              " 3: Text(0.48953937420626464, 0.21841514330751202, '3 NF'),\n",
              " 4: Text(0.11889566088474404, 0.8802704263965291, '4 NF'),\n",
              " 5: Text(-0.21949559900550628, 0.8501916065452301, '5 F'),\n",
              " 6: Text(-0.56644408979308, -1.0, '6 F'),\n",
              " 7: Text(-0.01233414317314395, 0.2884517639492058, '7 F'),\n",
              " 8: Text(-0.37952152288219704, -0.07987092269386288, '8 NF'),\n",
              " 9: Text(0.6790394931425485, -0.5586520707996832, '9 NF')}"
            ]
          },
          "metadata": {},
          "execution_count": 14
        },
        {
          "output_type": "display_data",
          "data": {
            "image/png": "[encoded data removed]",
            "text/plain": [
              "<Figure size 432x288 with 1 Axes>"
            ]
          },
          "metadata": {}
        }
      ]
    },
    {
      "cell_type": "code",
      "metadata": {
        "id": "Q_giVmiQVeWB"
      },
      "source": [
        "vertices = range(1,11)\n",
        "edges= range(1,11)\n",
        "edges= [(7,1), (1,2), (2,3), (2,6), (3,6), (7,6), (7,10), (7,8), (8,9), (7,9), (6,5), (3,4)]"
      ],
      "execution_count": 18,
      "outputs": []
    },
    {
      "cell_type": "code",
      "metadata": {
        "id": "lhPLo7q5YFJZ"
      },
      "source": [
        "G = nx.Graph()"
      ],
      "execution_count": 21,
      "outputs": []
    },
    {
      "cell_type": "code",
      "metadata": {
        "id": "9T8PvIJNYKpg"
      },
      "source": [
        "G.add_nodes_from(vertices)\n",
        "G.add_edges_from(edges)\n",
        "pos=nx.spring_layout(G)"
      ],
      "execution_count": 22,
      "outputs": []
    },
    {
      "cell_type": "code",
      "metadata": {
        "colab": {
          "base_uri": "https://localhost:8080/",
          "height": 422
        },
        "id": "7wK3hm_tTjAf",
        "outputId": "7ff06a10-eb54-477b-dbcc-47d710844c51"
      },
      "source": [
        "nx.draw_networkx_nodes(G,pos,nodelist=[2,3,6,8,9],node_color='g',node_size=1300)\n",
        "\n",
        "nx.draw_networkx_nodes(G,pos,nodelist=[1,7,10,5,4],node_color='r',node_size=1300)\n",
        "\n",
        "nx.draw_networkx_edges(G,pos,edges,width=3,alpha=0.5,edge_color='b')\n",
        "labels={}\n",
        "labels[1]=r'1 F'\n",
        "labels[2]=r'2 NF'\n",
        "labels[3]=r'3 NF'\n",
        "labels[4]=r'4 F'\n",
        "labels[5]=r'5 F'\n",
        "labels[6]=r'6 NF'\n",
        "labels[7]=r'7 F'\n",
        "labels[8]=r'8 NF'\n",
        "labels[9]=r'9 NF'\n",
        "labels[10]=r'10 F'\n",
        "\n",
        "nx.draw_networkx_labels(G,pos,labels,font_size=16)"
      ],
      "execution_count": 27,
      "outputs": [
        {
          "output_type": "execute_result",
          "data": {
            "text/plain": [
              "{1: Text(-0.2671643717325064, -0.1791327840392366, '1 F'),\n",
              " 2: Text(0.1309560041548871, -0.427014085617151, '2 NF'),\n",
              " 3: Text(0.5208850635519351, -0.5844675082375481, '3 NF'),\n",
              " 4: Text(0.8186803634545539, -0.9999999999999999, '4 F'),\n",
              " 5: Text(0.738780498137069, 0.1794119677822064, '5 F'),\n",
              " 6: Text(0.277401909192941, -0.05485338416337262, '6 NF'),\n",
              " 7: Text(-0.33735722003108204, 0.3079804136345961, '7 F'),\n",
              " 8: Text(-0.8474885793647056, 0.32862327741776537, '8 NF'),\n",
              " 9: Text(-0.7605133463046184, 0.6018198193373288, '9 NF'),\n",
              " 10: Text(-0.27418032105847384, 0.8276322838854122, '10 F')}"
            ]
          },
          "metadata": {},
          "execution_count": 27
        },
        {
          "output_type": "display_data",
          "data": {
            "image/png": "[encoded data removed]",
            "text/plain": [
              "<Figure size 432x288 with 1 Axes>"
            ]
          },
          "metadata": {}
        }
      ]
    },
    {
      "cell_type": "code",
      "metadata": {
        "id": "IWbTmvqEc2UO"
      },
      "source": [
        "vertices = range(1,13)\n",
        "edges= range(1,13)\n",
        "edges= [(3,1), (3,2), (3,12), (2,6), (3,6), (7,6), (7,10), (7,8), (8,9), (7,9), (6,5), (3,4)]"
      ],
      "execution_count": null,
      "outputs": []
    },
    {
      "cell_type": "code",
      "metadata": {
        "id": "W36QjbQvc5nu"
      },
      "source": [
        "G = nx.Graph()"
      ],
      "execution_count": null,
      "outputs": []
    },
    {
      "cell_type": "code",
      "metadata": {
        "id": "7ueNWzeIc9AE"
      },
      "source": [
        "G.add_nodes_from(vertices)\n",
        "G.add_edges_from(edges)\n",
        "pos=nx.spring_layout(G)"
      ],
      "execution_count": null,
      "outputs": []
    },
    {
      "cell_type": "code",
      "metadata": {
        "colab": {
          "base_uri": "https://localhost:8080/",
          "height": 235
        },
        "id": "FQ3mOLKXcvpP",
        "outputId": "40aa39ab-faf0-4445-a59f-865171c627f5"
      },
      "source": [
        "nx.draw_networkx_nodes(G,pos,nodelist=[2,3,6,8,9],node_color='g',node_size=1300)\n",
        "\n",
        "nx.draw_networkx_nodes(G,pos,nodelist=[1,7,10,5,4],node_color='r',node_size=1300)\n",
        "\n",
        "nx.draw_networkx_edges(G,pos,edges,width=3,alpha=0.5,edge_color='b')\n",
        "labels={}\n",
        "labels[1]=r'1 F'\n",
        "labels[2]=r'2 NF'\n",
        "labels[3]=r'3 NF'\n",
        "labels[4]=r'4 F'\n",
        "labels[5]=r'5 F'\n",
        "labels[6]=r'6 NF'\n",
        "labels[7]=r'7 F'\n",
        "labels[8]=r'8 NF'\n",
        "labels[9]=r'9 NF'\n",
        "labels[10]=r'10 F'\n",
        "\n",
        "nx.draw_networkx_labels(G,pos,labels,font_size=16)"
      ],
      "execution_count": 28,
      "outputs": [
        {
          "output_type": "error",
          "ename": "NameError",
          "evalue": "ignored",
          "traceback": [
            "\u001b[0;31m---------------------------------------------------------------------------\u001b[0m",
            "\u001b[0;31mNameError\u001b[0m                                 Traceback (most recent call last)",
            "\u001b[0;32m<ipython-input-28-29c54581dfa0>\u001b[0m in \u001b[0;36m<module>\u001b[0;34m()\u001b[0m\n\u001b[0;32m----> 1\u001b[0;31m \u001b[0mnx\u001b[0m\u001b[0;34m.\u001b[0m\u001b[0mdraw_networkx_nodes\u001b[0m\u001b[0;34m(\u001b[0m\u001b[0mG2\u001b[0m\u001b[0;34m,\u001b[0m \u001b[0mpos2\u001b[0m\u001b[0;34m,\u001b[0m \u001b[0mnodelist\u001b[0m \u001b[0;34m=\u001b[0m \u001b[0;34m[\u001b[0m\u001b[0;36m4\u001b[0m\u001b[0;34m,\u001b[0m \u001b[0;36m5\u001b[0m\u001b[0;34m,\u001b[0m \u001b[0;36m6\u001b[0m\u001b[0;34m,\u001b[0m \u001b[0;36m7\u001b[0m\u001b[0;34m,\u001b[0m \u001b[0;36m8\u001b[0m\u001b[0;34m,\u001b[0m \u001b[0;36m9\u001b[0m\u001b[0;34m,\u001b[0m \u001b[0;36m13\u001b[0m\u001b[0;34m]\u001b[0m\u001b[0;34m,\u001b[0m \u001b[0mnode_color\u001b[0m \u001b[0;34m=\u001b[0m \u001b[0;34m'g'\u001b[0m\u001b[0;34m,\u001b[0m \u001b[0mnode_size\u001b[0m \u001b[0;34m=\u001b[0m \u001b[0;36m1000\u001b[0m\u001b[0;34m)\u001b[0m\u001b[0;34m\u001b[0m\u001b[0;34m\u001b[0m\u001b[0m\n\u001b[0m\u001b[1;32m      2\u001b[0m \u001b[0mnx\u001b[0m\u001b[0;34m.\u001b[0m\u001b[0mdraw_networkx_nodes\u001b[0m\u001b[0;34m(\u001b[0m\u001b[0mG2\u001b[0m\u001b[0;34m,\u001b[0m \u001b[0mpos2\u001b[0m\u001b[0;34m,\u001b[0m \u001b[0mnodelist\u001b[0m \u001b[0;34m=\u001b[0m \u001b[0;34m[\u001b[0m\u001b[0;36m1\u001b[0m\u001b[0;34m,\u001b[0m \u001b[0;36m2\u001b[0m\u001b[0;34m,\u001b[0m \u001b[0;36m3\u001b[0m\u001b[0;34m,\u001b[0m \u001b[0;36m10\u001b[0m\u001b[0;34m,\u001b[0m \u001b[0;36m11\u001b[0m\u001b[0;34m,\u001b[0m \u001b[0;36m12\u001b[0m\u001b[0;34m]\u001b[0m\u001b[0;34m,\u001b[0m \u001b[0mnode_color\u001b[0m \u001b[0;34m=\u001b[0m \u001b[0;34m'r'\u001b[0m\u001b[0;34m,\u001b[0m \u001b[0mnode_size\u001b[0m \u001b[0;34m=\u001b[0m \u001b[0;36m1000\u001b[0m\u001b[0;34m)\u001b[0m\u001b[0;34m\u001b[0m\u001b[0;34m\u001b[0m\u001b[0m\n\u001b[1;32m      3\u001b[0m \u001b[0;34m\u001b[0m\u001b[0m\n\u001b[1;32m      4\u001b[0m \u001b[0mnx\u001b[0m\u001b[0;34m.\u001b[0m\u001b[0mdraw_networkx_edges\u001b[0m\u001b[0;34m(\u001b[0m\u001b[0mG2\u001b[0m\u001b[0;34m,\u001b[0m \u001b[0mpos2\u001b[0m\u001b[0;34m,\u001b[0m \u001b[0medges2\u001b[0m\u001b[0;34m,\u001b[0m \u001b[0mwidth\u001b[0m \u001b[0;34m=\u001b[0m \u001b[0;36m3\u001b[0m\u001b[0;34m,\u001b[0m \u001b[0malpha\u001b[0m \u001b[0;34m=\u001b[0m \u001b[0;36m0.5\u001b[0m\u001b[0;34m,\u001b[0m \u001b[0medge_color\u001b[0m \u001b[0;34m=\u001b[0m \u001b[0;34m'b'\u001b[0m\u001b[0;34m)\u001b[0m\u001b[0;34m\u001b[0m\u001b[0;34m\u001b[0m\u001b[0m\n\u001b[1;32m      5\u001b[0m \u001b[0;34m\u001b[0m\u001b[0m\n",
            "\u001b[0;31mNameError\u001b[0m: name 'G2' is not defined"
          ]
        }
      ]
    }
  ]
}