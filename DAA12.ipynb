{
  "nbformat": 4,
  "nbformat_minor": 0,
  "metadata": {
    "colab": {
      "name": "DAA12.ipynb",
      "provenance": [],
      "authorship_tag": "ABX9TyNN+SPGLoZ9SJHGMCtzoGqJ",
      "include_colab_link": true
    },
    "kernelspec": {
      "name": "python3",
      "display_name": "Python 3"
    },
    "language_info": {
      "name": "python"
    }
  },
  "cells": [
    {
      "cell_type": "markdown",
      "metadata": {
        "id": "view-in-github",
        "colab_type": "text"
      },
      "source": [
        "<a href=\"https://colab.research.google.com/github/rajwasyafiq/DAA/blob/main/DAA12.ipynb\" target=\"_parent\"><img src=\"https://colab.research.google.com/assets/colab-badge.svg\" alt=\"Open In Colab\"/></a>"
      ]
    },
    {
      "cell_type": "code",
      "metadata": {
        "id": "vOBtyK7CgWUO"
      },
      "source": [
        "pip install networkx"
      ],
      "execution_count": null,
      "outputs": []
    },
    {
      "cell_type": "code",
      "metadata": {
        "id": "U5jFQ9brghUu"
      },
      "source": [
        "import networkx as nx\n",
        "import matplotlib.pyplot as plt"
      ],
      "execution_count": null,
      "outputs": []
    },
    {
      "cell_type": "code",
      "metadata": {
        "id": "_CLQY3xbgjoD"
      },
      "source": [
        "import networkx as nx\n",
        "import matplotlib.pyplot as plt\n",
        "vertices = range(1,10)\n",
        "edges = [(7,2), (2,3), (7,4), (4,5), (7,3), (7,5), (1,6), (1,7), (2,8), (2,9)]\n",
        "G = nx.Graph()\n",
        "G.add_nodes_from(vertices)\n",
        "G.add_edges_from(edges)\n",
        "nx.draw(G, with_labels=True,node_color='y',node_size=800)"
      ],
      "execution_count": null,
      "outputs": []
    },
    {
      "cell_type": "code",
      "metadata": {
        "id": "cfJmp5sQglOB"
      },
      "source": [
        "# Pengukuran graph networkX dengan menggunakan degree_centrality()\n",
        "# semakin terhubung ke banyak nodes maka value semakin bersar\n",
        "nx.degree_centrality(G)"
      ],
      "execution_count": null,
      "outputs": []
    },
    {
      "cell_type": "code",
      "metadata": {
        "id": "kH9rJvOHgm1x"
      },
      "source": [
        "# The Betweenness Centrality adalah sentralitas dari\n",
        "# kontrol. Ini mewakili frekuensi di mana\n",
        "# titik terjadi pada geodesik (jalur terpendek)\n",
        "# pasangan titik yang terhubung itu. Ini mengukur bagaimana\n",
        "# berkali-kali node tertentu datang di\n",
        "# jalur terpendek yang dipilih antara dua node lainnya.\n",
        "\n",
        "nx.betweenness_centrality(G)"
      ],
      "execution_count": null,
      "outputs": []
    },
    {
      "cell_type": "code",
      "metadata": {
        "id": "qu0ocKOggoWe"
      },
      "source": [
        "# PENGUKURAN CLOSENESS CENTRALITY\n",
        "\n",
        "nx.closeness_centrality(G)"
      ],
      "execution_count": null,
      "outputs": []
    },
    {
      "cell_type": "code",
      "metadata": {
        "id": "0kdpfndQgp2F"
      },
      "source": [
        "# PENGUKURAN EIGENVECTOR CENTRALITY\n",
        "\n",
        "# Eigenvector memberikan nilai kepada semua simpul dalam suatu grafik dengan \n",
        "# mengukur tingkat kepentingannya dalam suatu network\n",
        "\n",
        "centrality = nx.eigenvector_centrality(G)\n",
        "sorted((v, '{:0.2f}'.format(c)) for v, c in centrality.items())"
      ],
      "execution_count": null,
      "outputs": []
    },
    {
      "cell_type": "code",
      "metadata": {
        "id": "Xf2piLJQgrJq"
      },
      "source": [
        "# Latihan\n",
        "# Buat network menghubungkan nama (string)\n",
        "\n",
        "edges = [('Mike','Bob'), ('Bob','John'), ('John','Leah'), \n",
        "         ('Leah','Shane'), ('Shane','Emma'), ('Emma','Mike'), \n",
        "         ('Bob','Emma'), ('Mike','Jill'), ('John','Jill'), \n",
        "         ('Jill','Leah'), ('Jill','Shane'), ('John','Shane'), \n",
        "         ('Shane','Liz'), ('Emma', 'Liz'), ('Liz', 'Allen'), \n",
        "         ('Allen','Liza')]\n",
        "latihanG = nx.Graph()\n",
        "latihanG.add_edges_from(edges)\n",
        "nx.draw(latihanG, with_labels=True,node_color='b',node_size=750)\n",
        "\n",
        "centrality = nx.eigenvector_centrality(latihanG)\n",
        "sorted((v, '{:0.2f}'.format(c)) for v, c in centrality.items())"
      ],
      "execution_count": null,
      "outputs": []
    },
    {
      "cell_type": "code",
      "metadata": {
        "id": "RZfWmsWYgsqM"
      },
      "source": [
        "nx.degree_centrality(latihanG)"
      ],
      "execution_count": null,
      "outputs": []
    },
    {
      "cell_type": "code",
      "metadata": {
        "id": "9YHvTy39guXN"
      },
      "source": [
        "nx.betweenness_centrality(latihanG)"
      ],
      "execution_count": null,
      "outputs": []
    },
    {
      "cell_type": "code",
      "metadata": {
        "id": "hZ4pR9gJgvyl"
      },
      "source": [
        "nx.closeness_centrality(latihanG)"
      ],
      "execution_count": null,
      "outputs": []
    },
    {
      "cell_type": "code",
      "metadata": {
        "id": "TnyLgf3rgw7E"
      },
      "source": [
        "# Latihan\n",
        "# Buat network menghubungkan angka (integer)\n",
        "\n",
        "vertices = range(1,15)\n",
        "edges = [(1,4), (1,10), (1,2), (2,12), (2,15), (2,11), (2,3), (3,13), \n",
        "         (3,15), (3,5), (2,6), (6,8), (6,14), (6,7), (6,9),]\n",
        "\n",
        "latihan2G = nx.Graph()\n",
        "latihan2G.add_nodes_from(vertices)\n",
        "latihan2G.add_edges_from(edges)\n",
        "nx.draw(latihan2G, with_labels=True,node_color='r',node_size=750)\n",
        "\n",
        "centrality = nx.eigenvector_centrality(latihan2G)\n",
        "sorted((v, '{:0.2f}'.format(c)) for v, c in centrality.items())"
      ],
      "execution_count": null,
      "outputs": []
    },
    {
      "cell_type": "code",
      "metadata": {
        "id": "lVu8YiK8gzR3"
      },
      "source": [
        "nx.degree_centrality(latihan2G)"
      ],
      "execution_count": null,
      "outputs": []
    },
    {
      "cell_type": "code",
      "metadata": {
        "id": "aWvpf_WAg0hq"
      },
      "source": [
        "nx.betweenness_centrality(latihan2G)"
      ],
      "execution_count": null,
      "outputs": []
    },
    {
      "cell_type": "code",
      "metadata": {
        "id": "Vbt8jO2Mg1mE"
      },
      "source": [
        "nx.closeness_centrality(latihan2G)"
      ],
      "execution_count": null,
      "outputs": []
    },
    {
      "cell_type": "code",
      "metadata": {
        "id": "Ic0TZsSgg2zr"
      },
      "source": [
        "# MEMBUAT NETWORK BERDASARKAN DATA PEMODELAN FACEBOOK DARI STANFORD\n",
        "\n",
        "G_fb = nx.read_edgelist(\"facebook_combined.txt\", create_using = nx.Graph(), nodetype=int)"
      ],
      "execution_count": null,
      "outputs": []
    },
    {
      "cell_type": "code",
      "metadata": {
        "id": "dSqFe_V3g4O5"
      },
      "source": [
        "print(nx.info(G_fb))"
      ],
      "execution_count": null,
      "outputs": []
    },
    {
      "cell_type": "code",
      "metadata": {
        "id": "E118NB9Cg5ZE"
      },
      "source": [
        "pos = nx.spring_layout(G_fb)\n",
        "betCent = nx.betweenness_centrality(G_fb, normalized=True, endpoints=True)\n",
        "node_color = [20000.0 * G_fb.degree(v) for v in G_fb]\n",
        "node_size = [v * 10000 for v in betCent.values()]\n",
        "plt.figure(figsize=(20,20))\n",
        "nx.draw_networkx(G_fb, pos=pos, \n",
        "                 with_labels=False, \n",
        "                 node_color=node_color,\n",
        "                 node_size=node_size)\n",
        "plt.axis('off')"
      ],
      "execution_count": null,
      "outputs": []
    }
  ]
}